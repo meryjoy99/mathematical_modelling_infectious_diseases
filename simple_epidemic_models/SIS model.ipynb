{
 "cells": [
  {
   "cell_type": "markdown",
   "metadata": {},
   "source": [
    "# SIS\n",
    "This is the Python version of program 2.5 from page 39 of \"Modeling Infectious Disease in humans and animals\" by Keeling & Rohani.\n",
    "This is based on code written by Ilias Soumpasis."
   ]
  },
  {
   "cell_type": "code",
   "execution_count": 1,
   "metadata": {},
   "outputs": [],
   "source": [
    "import scipy.integrate as spi\n",
    "import numpy as np\n",
    "import matplotlib.pyplot as plt"
   ]
  },
  {
   "cell_type": "code",
   "execution_count": 4,
   "metadata": {},
   "outputs": [],
   "source": [
    "#Parameters (rates here are specified in terms of days)\n",
    "beta=1.4247 #transmission rate\n",
    "gamma=0.14286 #recovery rate\n",
    "\n",
    "TS=1.0  #time step for integration\n",
    "ND=70 #number of days (end of simulation)\n",
    "\n",
    "I0=1e-6 #initial proportion of the population that is infected\n",
    "INPUT = (1.0-I0, I0) #initial conditions"
   ]
  },
  {
   "cell_type": "code",
   "execution_count": 2,
   "metadata": {},
   "outputs": [],
   "source": [
    "def diff_eqs(INP,t):  \n",
    "\t'''The main set of equations'''\n",
    "\tY=np.zeros((2))\n",
    "\tV = INP    \n",
    "\tY[0] = - beta * V[0] * V[1] + gamma*V[1]\n",
    "\tY[1] = beta * V[0] * V[1] - gamma * V[1] \n",
    "\treturn Y   # For odeint"
   ]
  },
  {
   "cell_type": "code",
   "execution_count": 5,
   "metadata": {},
   "outputs": [],
   "source": [
    "t_start = 0.0; t_end = ND; t_inc = TS\n",
    "t_range = np.arange(t_start, t_end+t_inc, t_inc)\n",
    "RES = spi.odeint(diff_eqs,INPUT,t_range)"
   ]
  },
  {
   "cell_type": "code",
   "execution_count": 7,
   "metadata": {},
   "outputs": [
    {
     "data": {
      "image/png": "[encoded data removed]",
      "text/plain": [
       "<Figure size 432x216 with 1 Axes>"
      ]
     },
     "metadata": {
      "needs_background": "light"
     },
     "output_type": "display_data"
    }
   ],
   "source": [
    "#Ploting\n",
    "fig = plt.figure(figsize=(6,3))\n",
    "plt.title('SIS')\n",
    "plt.plot(RES[:,0], '-g',label='Susceptibles')\n",
    "plt.ylabel('S')\n",
    "plt.plot(RES[:,1], '-r',label='Infected')\n",
    "plt.legend(loc='best')\n",
    "plt.xlabel('Time')\n",
    "plt.ylabel('Fraction of population')\n",
    "plt.show()\n",
    "fig.savefig('SIS.pdf')"
   ]
  }
 ],
 "metadata": {
  "kernelspec": {
   "display_name": "Python 3",
   "language": "python",
   "name": "python3"
  },
  "language_info": {
   "codemirror_mode": {
    "name": "ipython",
    "version": 3
   },
   "file_extension": ".py",
   "mimetype": "text/x-python",
   "name": "python",
   "nbconvert_exporter": "python",
   "pygments_lexer": "ipython3",
   "version": "3.8.3"
  }
 },
 "nbformat": 4,
 "nbformat_minor": 4
}
